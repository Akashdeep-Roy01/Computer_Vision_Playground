{
 "cells": [
  {
   "cell_type": "code",
   "execution_count": 2,
   "id": "dfc49751",
   "metadata": {},
   "outputs": [],
   "source": [
    "import matplotlib.pyplot as plt\n",
    "import numpy as np\n",
    "\n",
    "def mygauss(mu,sigma2,x):\n",
    "    coefficients = 1.0/sqrt(2.0*pi*sigma2)\n",
    "    exponential = exp(-0.5*(x-mu)**2/sigma2)\n",
    "    return coefficient*exponential"
   ]
  },
  {
   "cell_type": "code",
   "execution_count": 4,
   "id": "e841b217",
   "metadata": {},
   "outputs": [],
   "source": [
    "# Update Function\n",
    "def update(mean1,var1,mean2,var2):\n",
    "    new_mean = (var2*mean1 + var1*mean2)/(var2+var1)\n",
    "    new_var = 1/(1/var1+1/var2)\n",
    "    \n",
    "    return [new_mean, new_var]\n",
    "\n",
    "# Predict Function\n",
    "def predict(mean1, var1, mean2, var2):\n",
    "    new_mean = mean1 + mean2\n",
    "    new_var = var1 + var2\n",
    "    \n",
    "    return [new_mean, new_var]"
   ]
  },
  {
   "cell_type": "code",
   "execution_count": 9,
   "id": "06173f1d",
   "metadata": {},
   "outputs": [],
   "source": [
    "def OneDKalman(measurements,motions,measurement_sig,motion_sig,mu,sigma):\n",
    "    for n in range(len(measurements)):\n",
    "        \n",
    "        #Measurement Update\n",
    "        mu,sigma = update(mu,sigma,measurements[n],measurement_sig)\n",
    "        print('Update : Mean - {} Sigma - {}'.format(mu,sigma))\n",
    "        \n",
    "        #Motion Update\n",
    "        mu,sigma = predict(mu,sigma,motions[n],motion_sig)\n",
    "        print('Predict: Mean - {} Sigma - {}'.format(mu,sigma))\n",
    "        "
   ]
  },
  {
   "cell_type": "code",
   "execution_count": 10,
   "id": "5c7e162c",
   "metadata": {},
   "outputs": [
    {
     "name": "stdout",
     "output_type": "stream",
     "text": [
      "Update : Mean - 4.998000799680128 Sigma - 3.9984006397441023\n",
      "Predict: Mean - 5.998000799680128 Sigma - 5.998400639744102\n",
      "Update : Mean - 5.999200191953932 Sigma - 2.399744061425258\n",
      "Predict: Mean - 6.999200191953932 Sigma - 4.399744061425258\n",
      "Update : Mean - 6.999619127420922 Sigma - 2.0951800575117594\n",
      "Predict: Mean - 8.999619127420921 Sigma - 4.09518005751176\n",
      "Update : Mean - 8.999811802788143 Sigma - 2.0235152416216957\n",
      "Predict: Mean - 9.999811802788143 Sigma - 4.023515241621696\n",
      "Update : Mean - 9.999906177177365 Sigma - 2.0058615808441944\n",
      "Predict: Mean - 10.999906177177365 Sigma - 4.005861580844194\n"
     ]
    }
   ],
   "source": [
    "# measurements for mu and motions\n",
    "measurements = [5., 6., 7., 9., 10.]\n",
    "motions = [1., 1., 2., 1., 1.]\n",
    "\n",
    "# initial parameters\n",
    "measurement_sig = 4.\n",
    "motion_sig = 2.\n",
    "mu = 0.\n",
    "sigma = 10000.\n",
    "\n",
    "OneDKalman(measurements,motions,measurement_sig,motion_sig,mu,sigma)"
   ]
  },
  {
   "cell_type": "code",
   "execution_count": null,
   "id": "d7799384",
   "metadata": {},
   "outputs": [],
   "source": []
  }
 ],
 "metadata": {
  "kernelspec": {
   "display_name": "Python 3",
   "language": "python",
   "name": "python3"
  },
  "language_info": {
   "codemirror_mode": {
    "name": "ipython",
    "version": 3
   },
   "file_extension": ".py",
   "mimetype": "text/x-python",
   "name": "python",
   "nbconvert_exporter": "python",
   "pygments_lexer": "ipython3",
   "version": "3.6.13"
  }
 },
 "nbformat": 4,
 "nbformat_minor": 5
}
